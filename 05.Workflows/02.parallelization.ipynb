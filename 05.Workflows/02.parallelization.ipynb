{
 "cells": [
  {
   "cell_type": "code",
   "execution_count": 30,
   "id": "ab91e46b",
   "metadata": {},
   "outputs": [],
   "source": [
    "import os\n",
    "from dotenv import load_dotenv\n",
    "load_dotenv()\n",
    "from langchain_groq import ChatGroq\n",
    "\n",
    "os.environ[\"GROQ_API_KEY\"]=os.getenv(\"GROQ_API_KEY\")\n",
    "\n",
    "llm=ChatGroq(model=\"llama-3.1-8b-instant\")"
   ]
  },
  {
   "cell_type": "code",
   "execution_count": 39,
   "id": "6a895f04",
   "metadata": {},
   "outputs": [],
   "source": [
    "from langgraph.graph import StateGraph, START, END\n",
    "from typing_extensions import TypedDict\n",
    "\n",
    "class State(TypedDict):\n",
    "    topic:str\n",
    "    characters: str\n",
    "    plot: str\n",
    "    premises:str\n",
    "    story_intro:str"
   ]
  },
  {
   "cell_type": "code",
   "execution_count": 40,
   "id": "a299fca7",
   "metadata": {},
   "outputs": [],
   "source": [
    "def generate_characters(state: State):\n",
    "    msg = llm.invoke(f\"Create two character names and brief traits for a story about {state['topic']}\")\n",
    "    return {\"characters\": msg.content}\n",
    "\n",
    "def generate_plot(state: State):\n",
    "    msg = llm.invoke(f\"Describe a vivid plot for a story about {state['topic']}\")\n",
    "    return {\"plot\": msg.content}\n",
    "\n",
    "def generate_premise(state: State):\n",
    "    \"\"\"Generate a story premise\"\"\"\n",
    "    msg = llm.invoke(f\"Write a one-sentence plot premise for a story about {state['topic']}\")\n",
    "    return {\"premises\": msg.content}"
   ]
  },
  {
   "cell_type": "code",
   "execution_count": 41,
   "id": "609693fd",
   "metadata": {},
   "outputs": [],
   "source": [
    "def combine_elements(state:State):\n",
    "    msg = llm.invoke(\n",
    "        f\"Write a short story introduction using these elements:\\n\"\n",
    "        f\"Characters: {state['characters']}\\n\"\n",
    "        f\"Plot: {state['plot']}\\n\"\n",
    "        f\"Premise: {state['premises']}\"\n",
    "    )\n",
    "    return {\"story_intro\": msg.content}"
   ]
  },
  {
   "cell_type": "code",
   "execution_count": 42,
   "id": "fdfcaaaa",
   "metadata": {},
   "outputs": [],
   "source": [
    "graph_builder = StateGraph(State)\n",
    "\n",
    "graph_builder.add_node(\"generate_characters\",generate_characters)\n",
    "graph_builder.add_node(\"generate_plot\",generate_plot)\n",
    "graph_builder.add_node(\"generate_premise\",generate_premise)\n",
    "graph_builder.add_node(\"combine_elements\",combine_elements)\n",
    "\n",
    "graph_builder.add_edge(START, \"generate_characters\")\n",
    "graph_builder.add_edge(START, \"generate_plot\")\n",
    "graph_builder.add_edge(START, \"generate_premise\")\n",
    "graph_builder.add_edge(\"generate_characters\", \"combine_elements\")\n",
    "graph_builder.add_edge(\"generate_plot\", \"combine_elements\")\n",
    "graph_builder.add_edge(\"generate_premise\", \"combine_elements\")\n",
    "graph_builder.add_edge(\"combine_elements\",END)\n",
    "\n",
    "graph = graph_builder.compile()\n",
    "\n"
   ]
  },
  {
   "cell_type": "code",
   "execution_count": 43,
   "id": "2ed73ba2",
   "metadata": {},
   "outputs": [],
   "source": [
    "from IPython.display import Image, display"
   ]
  },
  {
   "cell_type": "code",
   "execution_count": 44,
   "id": "b3909966",
   "metadata": {},
   "outputs": [
    {
     "data": {
      "image/png": "[encoded data removed]",
      "text/plain": [
       "<IPython.core.display.Image object>"
      ]
     },
     "metadata": {},
     "output_type": "display_data"
    }
   ],
   "source": [
    "graph_image = graph.get_graph().draw_mermaid_png()\n",
    "display(Image(graph_image))"
   ]
  },
  {
   "cell_type": "code",
   "execution_count": 45,
   "id": "249195e1",
   "metadata": {},
   "outputs": [
    {
     "name": "stdout",
     "output_type": "stream",
     "text": [
      "{'topic': 'mahabharatam', 'characters': \"Here are two character names with brief traits related to the Mahabharatam:\\n\\n1. **Name:** Arjunesh\\n**Traits:** Arjunesh is a young and ambitious warrior from the Pandavas' side. He is brave, fiercely loyal to his family, and determined to reclaim their kingdom from the Kauravas. Despite his valiant efforts, Arjunesh often struggles with self-doubt and the weight of his responsibilities.\\n\\n2. **Name:** Vrindaraj\\n**Traits:** Vrindaraj is a wise and enigmatic sage who serves as a spiritual advisor to both the Pandavas and the Kauravas. With his profound knowledge of the ancient scriptures and his deep understanding of the human heart, Vrindaraj navigates the complex web of alliances and rivalries between the warring factions. His calm demeanor and insightful counsel often help to temper the passions of those around him, but his own motivations remain shrouded in mystery.\", 'plot': '**Title: The Lost Chronicles of the Pandavas**\\n\\n**Setting:** The story takes place during the epic Mahabharata, in the kingdom of Hastinapura, amidst the tumultuous events that unfolded before the Great War. The Pandavas, a family of five brothers, are at the center of the narrative.\\n\\n**Plot Idea:**\\n\\nThe story begins with the Pandavas, Arjuna, Bhima, Nakula, Sahadeva, and their loyal friend, Kunti\\'s son, Karna, who is also the son of Lord Karna and Adiratha. The brothers have been living in exile for 12 years, as per the agreement with their uncle, Duryodhana. However, their lives take a dramatic turn when they stumble upon an ancient, hidden text that speaks of a prophecy that could change the course of the war.\\n\\nThe text, known as the \"Raghuvamsa Purana,\" reveals that a powerful sorceress, Maya, has created a magical amulet that can grant invincibility to its wearer. The amulet is hidden within the palace of Hastinapura, guarded by a powerful deity, and can only be retrieved by solving a series of puzzles and riddles left behind by the sorceress.\\n\\nArjuna, being the greatest archer of the Pandavas, takes it upon himself to retrieve the amulet, believing it can tip the scales in their favor during the impending war. His quest takes him through treacherous landscapes, where he encounters a mysterious group of travelers, led by a wise and enigmatic woman named Draupadi.\\n\\nAs Arjuna navigates the challenges and obstacles, he begins to unravel a deeper mystery surrounding the amulet. He discovers that Maya, the sorceress, was once a member of the Pandava family and had been wronged by their ancestors. Her creation of the amulet is a desperate attempt to balance the cosmic scales, as she believes the Pandavas have been wronged by the Kauravas.\\n\\nMeanwhile, Duryodhana, the eldest son of King Dhritarashtra, becomes aware of Arjuna\\'s quest and decides to send his most trusted advisor, Shakuni, to retrieve the amulet before Arjuna can. Shakuni\\'s true intentions, however, are far from pure, and he is secretly working to further his own ambitions.\\n\\n**Climax:**\\n\\nAs Arjuna and Shakuni both close in on the amulet, they are met with a shocking revelation: Maya, the sorceress, is none other than a manifestation of the goddess Durga, who has been watching over the Pandavas from the shadows. The goddess reveals that the amulet is not a physical object but a metaphorical representation of the power of compassion, forgiveness, and unity.\\n\\nThe true battle is not between the Pandavas and the Kauravas but within themselves. The war is a manifestation of the internal conflicts and struggles that the Pandavas and the Kauravas have been carrying within themselves for generations.\\n\\n**Conclusion:**\\n\\nThe story concludes with Arjuna returning to the Pandavas, realizing that the true power lies not in the amulet but in the bonds of brotherhood, loyalty, and the power of forgiveness. The Pandavas and the Kauravas engage in the Great War, but with a newfound understanding of the true nature of their conflict.\\n\\nThe narrative ends with the epic battle between the two armies, where the Pandavas emerge victorious, but not without scars. The story concludes with a poignant reflection on the human condition, highlighting the importance of compassion, forgiveness, and the power of unity in the face of adversity.\\n\\n**Themes:**\\n\\n* The story explores the themes of brotherhood, loyalty, and the power of forgiveness.\\n* It highlights the importance of compassion and understanding in resolving conflicts.\\n* The narrative delves into the complexities of human nature, revealing the inner struggles and conflicts that individuals face.\\n\\n**Symbolism:**\\n\\n* The amulet represents the power of compassion, forgiveness, and unity.\\n* Maya, the sorceress, is a manifestation of the goddess Durga, symbolizing the divine feminine and the power of intuition.\\n* The Raghuvamsa Purana is a metaphor for the ancient wisdom and knowledge that lies within the collective unconscious.\\n\\n**Character Development:**\\n\\n* Arjuna undergoes a significant transformation, moving from a self-centered hero to a more compassionate and empathetic individual.\\n* Draupadi becomes a powerful symbol of female empowerment, wisdom, and strength.\\n* Shakuni\\'s character is complex, revealing a darker side to his personality, highlighting the dangers of unchecked ambition.\\n\\n**Genre:**\\n\\n* The story is a blend of fantasy, adventure, and historical fiction, drawing inspiration from the epic Mahabharata.\\n\\n**Tone:**\\n\\n* The narrative has a poignant, reflective tone, with a focus on the human condition and the importance of compassion and forgiveness.\\n* The story is filled with action, adventure, and suspense, keeping the reader engaged and invested in the characters\\' journeys.', 'premises': \"As the mighty Pandavas face off against their treacherous cousin Duryodhana in the epic battle of Kurukshetra, a young and unknown warrior named Abhimanyu, son of Arjuna, must navigate the complexities of his family's legacy and his own destiny to forge a path towards triumph and redemption.\", 'story_intro': \"In the sweltering heat of the Indian summer, the kingdom of Hastinapura was on the brink of chaos. The war drums beat louder with each passing day, as the Pandavas, a family of five brothers, prepared to face off against their treacherous cousins, the Kauravas. Amidst the tumultuous events, a young and ambitious warrior named Arjunesh, son of Arjuna, stood tall, his heart burning with a fierce determination to reclaim his family's kingdom.\\n\\nAs he walked through the bustling streets of Hastinapura, Arjunesh's thoughts were consumed by the prophecy of the Raghuvamsa Purana, a long-forgotten text that spoke of a magical amulet hidden within the palace. The amulet, said to grant invincibility to its wearer, was the key to tipping the scales in their favor during the impending war. With a deep breath, Arjunesh steeled himself for the perilous journey ahead, little knowing that he was about to unravel a deeper mystery that would change the course of his life forever.\\n\\nIn a distant corner of the palace, Vrindaraj, a wise and enigmatic sage, watched the young warrior with an piercing gaze. The sage's eyes seemed to hold a thousand secrets, and his calm demeanor belied a deep understanding of the human heart. As he pondered the fate of the Pandavas, Vrindaraj knew that the true battle was not between the brothers, but within themselves. The war was a manifestation of the internal conflicts and struggles that they had been carrying within themselves for generations.\\n\\nAs the sun dipped below the horizon, casting a golden glow over the kingdom, Arjunesh set out on his quest, unaware of the challenges that lay ahead. Little did he know that his journey would take him through treacherous landscapes, where he would encounter a mysterious group of travelers, led by a wise and enigmatic woman named Draupadi. Together, they would unravel a web of secrets and lies that would lead them to the heart of the prophecy, and the true nature of the war that was to come.\\n\\nIn the shadows, Duryodhana, the eldest son of King Dhritarashtra, watched Arjunesh with a calculating gaze. The cunning prince was determined to claim the amulet for himself, and would stop at nothing to achieve his goal. As the night wore on, the fate of the Pandavas, the Kauravas, and the kingdom of Hastinapura hung in the balance, waiting for the threads of destiny to be woven into a tapestry of triumph or tragedy.\"}\n"
     ]
    }
   ],
   "source": [
    "state = {\"topic\": \"mahabharatam\"}\n",
    "result = graph.invoke(state)\n",
    "print(result)"
   ]
  },
  {
   "cell_type": "code",
   "execution_count": 46,
   "id": "3cc3ad67",
   "metadata": {},
   "outputs": [
    {
     "name": "stdout",
     "output_type": "stream",
     "text": [
      "In the sweltering heat of the Indian summer, the kingdom of Hastinapura was on the brink of chaos. The war drums beat louder with each passing day, as the Pandavas, a family of five brothers, prepared to face off against their treacherous cousins, the Kauravas. Amidst the tumultuous events, a young and ambitious warrior named Arjunesh, son of Arjuna, stood tall, his heart burning with a fierce determination to reclaim his family's kingdom.\n",
      "\n",
      "As he walked through the bustling streets of Hastinapura, Arjunesh's thoughts were consumed by the prophecy of the Raghuvamsa Purana, a long-forgotten text that spoke of a magical amulet hidden within the palace. The amulet, said to grant invincibility to its wearer, was the key to tipping the scales in their favor during the impending war. With a deep breath, Arjunesh steeled himself for the perilous journey ahead, little knowing that he was about to unravel a deeper mystery that would change the course of his life forever.\n",
      "\n",
      "In a distant corner of the palace, Vrindaraj, a wise and enigmatic sage, watched the young warrior with an piercing gaze. The sage's eyes seemed to hold a thousand secrets, and his calm demeanor belied a deep understanding of the human heart. As he pondered the fate of the Pandavas, Vrindaraj knew that the true battle was not between the brothers, but within themselves. The war was a manifestation of the internal conflicts and struggles that they had been carrying within themselves for generations.\n",
      "\n",
      "As the sun dipped below the horizon, casting a golden glow over the kingdom, Arjunesh set out on his quest, unaware of the challenges that lay ahead. Little did he know that his journey would take him through treacherous landscapes, where he would encounter a mysterious group of travelers, led by a wise and enigmatic woman named Draupadi. Together, they would unravel a web of secrets and lies that would lead them to the heart of the prophecy, and the true nature of the war that was to come.\n",
      "\n",
      "In the shadows, Duryodhana, the eldest son of King Dhritarashtra, watched Arjunesh with a calculating gaze. The cunning prince was determined to claim the amulet for himself, and would stop at nothing to achieve his goal. As the night wore on, the fate of the Pandavas, the Kauravas, and the kingdom of Hastinapura hung in the balance, waiting for the threads of destiny to be woven into a tapestry of triumph or tragedy.\n"
     ]
    }
   ],
   "source": [
    "print(result[\"story_intro\"])"
   ]
  },
  {
   "cell_type": "code",
   "execution_count": null,
   "id": "0009e0e1",
   "metadata": {},
   "outputs": [],
   "source": []
  }
 ],
 "metadata": {
  "kernelspec": {
   "display_name": "Python 3",
   "language": "python",
   "name": "python3"
  },
  "language_info": {
   "codemirror_mode": {
    "name": "ipython",
    "version": 3
   },
   "file_extension": ".py",
   "mimetype": "text/x-python",
   "name": "python",
   "nbconvert_exporter": "python",
   "pygments_lexer": "ipython3",
   "version": "3.12.0"
  }
 },
 "nbformat": 4,
 "nbformat_minor": 5
}
