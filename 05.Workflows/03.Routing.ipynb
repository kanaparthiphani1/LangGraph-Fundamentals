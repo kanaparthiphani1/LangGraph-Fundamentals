{
 "cells": [
  {
   "cell_type": "code",
   "execution_count": 1,
   "id": "24ceda36",
   "metadata": {},
   "outputs": [],
   "source": [
    "import os\n",
    "from dotenv import load_dotenv\n",
    "load_dotenv()\n",
    "from langchain_groq import ChatGroq\n",
    "\n",
    "os.environ[\"GROQ_API_KEY\"]=os.getenv(\"GROQ_API_KEY\")\n",
    "\n",
    "llm=ChatGroq(model=\"llama-3.1-8b-instant\")"
   ]
  },
  {
   "cell_type": "code",
   "execution_count": 3,
   "id": "fb672ba8",
   "metadata": {},
   "outputs": [],
   "source": [
    "from typing import Literal\n",
    "from pydantic import BaseModel,Field\n",
    "\n",
    "class Route(BaseModel):\n",
    "    step:Literal[\"joke\",\"poem\",\"story\"]=Field(description=\"The next step in the routing process\")"
   ]
  },
  {
   "cell_type": "code",
   "execution_count": 4,
   "id": "640e1d96",
   "metadata": {},
   "outputs": [],
   "source": [
    "router = llm.with_structured_output(Route)"
   ]
  },
  {
   "cell_type": "code",
   "execution_count": 5,
   "id": "768d400e",
   "metadata": {},
   "outputs": [],
   "source": [
    "from typing import TypedDict\n",
    "from langchain_core.messages import HumanMessage,SystemMessage\n",
    "\n",
    "\n",
    "class State(TypedDict):\n",
    "    input:str\n",
    "    decision:str\n",
    "    output:str\n",
    "\n",
    "def story_writer(state: State):\n",
    "    print(\"story_writer is called\")\n",
    "    result = llm.invoke(state[\"input\"])\n",
    "    return {\"output\": result.content}\n",
    "\n",
    "def joke_teller(state: State):\n",
    "    print(\"joke_teller is called\")\n",
    "    result = llm.invoke(state[\"input\"])\n",
    "    return {\"output\": result.content}\n",
    "\n",
    "def poet(state: State):\n",
    "    print(\"poet is called\")\n",
    "    result = llm.invoke(state[\"input\"])\n",
    "    return {\"output\": result.content}\n",
    "\n",
    "def router_call(state:State):\n",
    "    decision = router.invoke(\n",
    "        [\n",
    "            SystemMessage(\n",
    "                content=\"Route the input to story,joke or poem based on the users request\"\n",
    "            ),\n",
    "            HumanMessage(content=state[\"input\"])\n",
    "        ]\n",
    "    )\n",
    "    return {\"decision\":decision.step}\n"
   ]
  },
  {
   "cell_type": "code",
   "execution_count": null,
   "id": "5a15457e",
   "metadata": {},
   "outputs": [],
   "source": [
    "def route_decision(state: State):\n",
    "    if state[\"decision\"] == \"story\":\n",
    "        return \"story_writer\"\n",
    "    elif state[\"decision\"] == \"joke\":\n",
    "        return \"joke_teller\"\n",
    "    elif state[\"decision\"] == \"poem\":\n",
    "        return \"poet\""
   ]
  },
  {
   "cell_type": "code",
   "execution_count": 7,
   "id": "23080609",
   "metadata": {},
   "outputs": [],
   "source": [
    "from langgraph.graph import StateGraph, START, END\n",
    "from IPython.display import Image, display\n",
    "\n",
    "router_builder = StateGraph(State)\n",
    "\n",
    "router_builder.add_node(\"story_writer\", story_writer)\n",
    "router_builder.add_node(\"joke_teller\", joke_teller)\n",
    "router_builder.add_node(\"poet\", poet)\n",
    "router_builder.add_node(\"router_call\", router_call)\n",
    "\n",
    "# Add edges to connect nodes\n",
    "router_builder.add_edge(START, \"router_call\")\n",
    "router_builder.add_conditional_edges(\n",
    "    \"router_call\",\n",
    "    route_decision,\n",
    "    { \n",
    "        \"story_writer\": \"story_writer\",\n",
    "        \"joke_teller\": \"joke_teller\",\n",
    "        \"poet\": \"poet\",\n",
    "    },\n",
    ")\n",
    "router_builder.add_edge(\"story_writer\", END)\n",
    "router_builder.add_edge(\"joke_teller\", END)\n",
    "router_builder.add_edge(\"poet\", END)\n",
    "\n",
    "router_workflow = router_builder.compile()\n"
   ]
  },
  {
   "cell_type": "code",
   "execution_count": 8,
   "id": "63439efd",
   "metadata": {},
   "outputs": [
    {
     "data": {
      "image/png": "[encoded data removed]",
      "text/plain": [
       "<IPython.core.display.Image object>"
      ]
     },
     "metadata": {},
     "output_type": "display_data"
    }
   ],
   "source": [
    "display(Image(router_workflow.get_graph().draw_mermaid_png()))"
   ]
  },
  {
   "cell_type": "code",
   "execution_count": 12,
   "id": "71cc193e",
   "metadata": {},
   "outputs": [
    {
     "name": "stdout",
     "output_type": "stream",
     "text": [
      "joke_teller is called\n",
      "Why did the Indian software engineer bring a ladder to work? \n",
      "\n",
      "Because he wanted to take his coding skills to the next level, but his manager just wanted to reach the ceiling for more profits.\n"
     ]
    }
   ],
   "source": [
    "state=router_workflow.invoke({\"input\":\"Write me a joke about Software Industry in India\"})\n",
    "print(state[\"output\"])"
   ]
  }
 ],
 "metadata": {
  "kernelspec": {
   "display_name": "Python 3",
   "language": "python",
   "name": "python3"
  },
  "language_info": {
   "codemirror_mode": {
    "name": "ipython",
    "version": 3
   },
   "file_extension": ".py",
   "mimetype": "text/x-python",
   "name": "python",
   "nbconvert_exporter": "python",
   "pygments_lexer": "ipython3",
   "version": "3.12.0"
  }
 },
 "nbformat": 4,
 "nbformat_minor": 5
}
