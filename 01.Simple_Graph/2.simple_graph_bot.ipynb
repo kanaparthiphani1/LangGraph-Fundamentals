{
 "cells": [
  {
   "cell_type": "code",
   "execution_count": 1,
   "id": "fd8f297a",
   "metadata": {},
   "outputs": [],
   "source": [
    "from typing_extensions import TypedDict\n",
    "from typing import Annotated\n",
    "from langgraph.graph.message import add_messages"
   ]
  },
  {
   "cell_type": "code",
   "execution_count": 2,
   "id": "4c26f6df",
   "metadata": {},
   "outputs": [],
   "source": [
    "class State(TypedDict):\n",
    "    messages:Annotated[list,add_messages]"
   ]
  },
  {
   "cell_type": "code",
   "execution_count": 3,
   "id": "06ff9725",
   "metadata": {},
   "outputs": [],
   "source": [
    "import os\n",
    "from dotenv import load_dotenv\n",
    "load_dotenv()\n",
    "\n",
    "os.environ[\"GROQ_API_KEY\"]=os.getenv(\"GROQ_API_KEY\")"
   ]
  },
  {
   "cell_type": "code",
   "execution_count": 8,
   "id": "c9c823e8",
   "metadata": {},
   "outputs": [],
   "source": [
    "from langchain_groq import ChatGroq\n",
    "\n",
    "llm = ChatGroq(model=\"Gemma2-9b-It\")\n",
    "\n",
    "def GroqBot(state:State):\n",
    "    return {\"messages\": [llm.invoke(state[\"messages\"])]}\n",
    "\n"
   ]
  },
  {
   "cell_type": "code",
   "execution_count": 9,
   "id": "42f941dd",
   "metadata": {},
   "outputs": [],
   "source": [
    "from langgraph.graph import StateGraph,START,END\n",
    "\n",
    "graph = StateGraph(State)\n",
    "\n",
    "graph.add_node(\"GroqBot\",GroqBot)\n",
    "\n",
    "graph.add_edge(START,\"GroqBot\")\n",
    "graph.add_edge(\"GroqBot\",END)\n",
    "\n",
    "graph_commp= graph.compile()\n"
   ]
  },
  {
   "cell_type": "code",
   "execution_count": 10,
   "id": "0f82fdcc",
   "metadata": {},
   "outputs": [
    {
     "data": {
      "image/png": "[encoded data removed]",
      "text/plain": [
       "<IPython.core.display.Image object>"
      ]
     },
     "metadata": {},
     "output_type": "display_data"
    }
   ],
   "source": [
    "from IPython.display import Image, display\n",
    "display(Image(graph_commp.get_graph().draw_mermaid_png()))"
   ]
  },
  {
   "cell_type": "code",
   "execution_count": 11,
   "id": "b9643948",
   "metadata": {},
   "outputs": [
    {
     "data": {
      "text/plain": [
       "{'messages': [HumanMessage(content='Hi I am Phanindra', additional_kwargs={}, response_metadata={}, id='4336a563-a491-43bd-8568-07ee5de90da3'),\n",
       "  AIMessage(content=\"Hello Phanindra! 👋\\n\\nIt's nice to meet you. What can I do for you today? 😊\\n\", additional_kwargs={}, response_metadata={'token_usage': {'completion_tokens': 26, 'prompt_tokens': 14, 'total_tokens': 40, 'completion_time': 0.047272727, 'prompt_time': 0.001256081, 'queue_time': 0.253490889, 'total_time': 0.048528808}, 'model_name': 'Gemma2-9b-It', 'system_fingerprint': 'fp_10c08bf97d', 'service_tier': 'on_demand', 'finish_reason': 'stop', 'logprobs': None}, id='run--a525c842-6872-4080-8419-951b176275d5-0', usage_metadata={'input_tokens': 14, 'output_tokens': 26, 'total_tokens': 40})]}"
      ]
     },
     "execution_count": 11,
     "metadata": {},
     "output_type": "execute_result"
    }
   ],
   "source": [
    "graph_commp.invoke({'messages':\"Hi I am Phanindra\"})"
   ]
  },
  {
   "cell_type": "code",
   "execution_count": 12,
   "id": "c2dba0e4",
   "metadata": {},
   "outputs": [
    {
     "name": "stdout",
     "output_type": "stream",
     "text": [
      "{'GroqBot': {'messages': [AIMessage(content=\"Namaste, Phani! 👋 \\n\\nIt's nice to meet you.  \\n\\nIs there anything I can help you with today? 😊 \\n\\n\", additional_kwargs={}, response_metadata={'token_usage': {'completion_tokens': 34, 'prompt_tokens': 15, 'total_tokens': 49, 'completion_time': 0.061818182, 'prompt_time': 0.001246301, 'queue_time': 0.253416198, 'total_time': 0.063064483}, 'model_name': 'Gemma2-9b-It', 'system_fingerprint': 'fp_10c08bf97d', 'service_tier': 'on_demand', 'finish_reason': 'stop', 'logprobs': None}, id='run--b6af7930-9f8a-49aa-b6ba-aed2b2ca4ac4-0', usage_metadata={'input_tokens': 15, 'output_tokens': 34, 'total_tokens': 49})]}}\n"
     ]
    }
   ],
   "source": [
    "for events in graph_commp.stream({\"messages\":\"I am Phani from India\"}):\n",
    "    print(events)"
   ]
  },
  {
   "cell_type": "code",
   "execution_count": null,
   "id": "66de3ca5",
   "metadata": {},
   "outputs": [],
   "source": []
  }
 ],
 "metadata": {
  "kernelspec": {
   "display_name": "Python 3",
   "language": "python",
   "name": "python3"
  },
  "language_info": {
   "codemirror_mode": {
    "name": "ipython",
    "version": 3
   },
   "file_extension": ".py",
   "mimetype": "text/x-python",
   "name": "python",
   "nbconvert_exporter": "python",
   "pygments_lexer": "ipython3",
   "version": "3.12.0"
  }
 },
 "nbformat": 4,
 "nbformat_minor": 5
}
