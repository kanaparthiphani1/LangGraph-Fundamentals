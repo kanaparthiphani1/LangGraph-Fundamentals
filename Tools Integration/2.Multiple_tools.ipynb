{
 "cells": [
  {
   "cell_type": "markdown",
   "id": "ba3d733d",
   "metadata": {},
   "source": [
    "#### Multiple tools integration"
   ]
  },
  {
   "cell_type": "code",
   "execution_count": 1,
   "id": "ad844e8c",
   "metadata": {},
   "outputs": [],
   "source": [
    "from langchain_community.tools import ArxivQueryRun, WikipediaQueryRun\n",
    "from langchain_community.utilities import ArxivAPIWrapper, WikipediaAPIWrapper\n"
   ]
  },
  {
   "cell_type": "code",
   "execution_count": 2,
   "id": "a85f9c24",
   "metadata": {},
   "outputs": [],
   "source": [
    "api_wrapper_arxiv = ArxivAPIWrapper(top_k_results=2, doc_content_chars_max=500)\n",
    "arxiv = ArxivQueryRun(api_wrapper=api_wrapper_arxiv)"
   ]
  },
  {
   "cell_type": "code",
   "execution_count": 3,
   "id": "5ea670e9",
   "metadata": {},
   "outputs": [],
   "source": [
    "api_wrapper_wiki = WikipediaAPIWrapper(top_k_results=1, doc_content_chars_max=500)\n",
    "wiki = WikipediaQueryRun(api_wrapper=api_wrapper_wiki)"
   ]
  },
  {
   "cell_type": "code",
   "execution_count": 5,
   "id": "cf4452e6",
   "metadata": {},
   "outputs": [],
   "source": [
    "import os\n",
    "from dotenv import load_dotenv\n",
    "load_dotenv()\n",
    "\n",
    "os.environ[\"TAVILY_API_KEY\"]=os.getenv(\"TAVILY_API_KEY\")\n",
    "os.environ[\"GROQ_API_KEY\"] = os.getenv(\"GROQ_API_KEY\")"
   ]
  },
  {
   "cell_type": "code",
   "execution_count": 7,
   "id": "496e871e",
   "metadata": {},
   "outputs": [],
   "source": [
    "from langchain_tavily import TavilySearch\n",
    "\n",
    "tavily = TavilySearch()"
   ]
  },
  {
   "cell_type": "code",
   "execution_count": 8,
   "id": "c61c3b4c",
   "metadata": {},
   "outputs": [],
   "source": [
    "tools = [wiki,arxiv,tavily]"
   ]
  },
  {
   "cell_type": "code",
   "execution_count": 9,
   "id": "bf17b332",
   "metadata": {},
   "outputs": [],
   "source": [
    "from langchain_groq import ChatGroq\n",
    "llm = ChatGroq(model=\"Gemma2-9b-It\")"
   ]
  },
  {
   "cell_type": "code",
   "execution_count": 10,
   "id": "6c7435f3",
   "metadata": {},
   "outputs": [],
   "source": [
    "llm_with_tools = llm.bind_tools(tools)"
   ]
  },
  {
   "cell_type": "markdown",
   "id": "1a78741c",
   "metadata": {},
   "source": [
    "Creating Graph"
   ]
  },
  {
   "cell_type": "code",
   "execution_count": 13,
   "id": "7488561c",
   "metadata": {},
   "outputs": [],
   "source": [
    "from langgraph.graph import StateGraph,START,END\n",
    "from langgraph.graph.message import add_messages\n",
    "from typing_extensions import TypedDict\n",
    "from typing import Annotated\n",
    "from langgraph.prebuilt import ToolNode,tools_condition\n",
    "from langchain_core.messages import AIMessage,HumanMessage,AnyMessage\n",
    "\n",
    "\n",
    "class State(TypedDict):\n",
    "    messages:Annotated[list[AnyMessage],add_messages]\n"
   ]
  },
  {
   "cell_type": "code",
   "execution_count": 14,
   "id": "30efa610",
   "metadata": {},
   "outputs": [],
   "source": [
    "def llm_agent(state:State):\n",
    "    return {\"messages\":llm_with_tools.invoke(state[\"messages\"])}"
   ]
  },
  {
   "cell_type": "code",
   "execution_count": 15,
   "id": "b864c0ae",
   "metadata": {},
   "outputs": [],
   "source": [
    "graph_builder = StateGraph(State)\n",
    "\n",
    "graph_builder.add_node(\"llm_agent\",llm_agent)\n",
    "graph_builder.add_node(\"tools\", ToolNode(tools))\n",
    "\n",
    "graph_builder.add_edge(START,\"llm_agent\")\n",
    "graph_builder.add_conditional_edges(\"llm_agent\",tools_condition)\n",
    "graph_builder.add_edge(\"tools\",END)\n",
    "\n",
    "\n",
    "graph = graph_builder.compile()"
   ]
  },
  {
   "cell_type": "code",
   "execution_count": 16,
   "id": "31a793a6",
   "metadata": {},
   "outputs": [
    {
     "data": {
      "image/png": "[encoded data removed]",
      "text/plain": [
       "<IPython.core.display.Image object>"
      ]
     },
     "metadata": {},
     "output_type": "display_data"
    }
   ],
   "source": [
    "from IPython.display import Image, display\n",
    "display(Image(graph.get_graph().draw_mermaid_png()))"
   ]
  },
  {
   "cell_type": "markdown",
   "id": "ee9b600f",
   "metadata": {},
   "source": [
    "ArXiv Tool in action "
   ]
  },
  {
   "cell_type": "code",
   "execution_count": 17,
   "id": "db3451a5",
   "metadata": {},
   "outputs": [
    {
     "name": "stdout",
     "output_type": "stream",
     "text": [
      "================================\u001b[1m Human Message \u001b[0m=================================\n",
      "\n",
      "What's the paper 1605.08386 about?\n",
      "==================================\u001b[1m Ai Message \u001b[0m==================================\n",
      "Tool Calls:\n",
      "  arxiv (fn5yxn30s)\n",
      " Call ID: fn5yxn30s\n",
      "  Args:\n",
      "    query: 1605.08386\n",
      "=================================\u001b[1m Tool Message \u001b[0m=================================\n",
      "Name: arxiv\n",
      "\n",
      "Published: 2016-05-26\n",
      "Title: Heat-bath random walks with Markov bases\n",
      "Authors: Caprice Stanley, Tobias Windisch\n",
      "Summary: Graphs on lattice points are studied whose edges come from a finite set of\n",
      "allowed moves of arbitrary length. We show that the diameter of these graphs on\n",
      "fibers of a fixed integer matrix can be bounded from above by a constant. We\n",
      "then study the mixing behaviour of heat-bath random walks on these graphs. We\n",
      "also state explicit conditions on the set of moves so that the heat-b\n"
     ]
    }
   ],
   "source": [
    "messages = graph.invoke({\"messages\":\"What's the paper 1605.08386 about?\"})\n",
    "\n",
    "for message in messages[\"messages\"]:\n",
    "    message.pretty_print()"
   ]
  },
  {
   "cell_type": "markdown",
   "id": "f4ff6874",
   "metadata": {},
   "source": [
    "Wiki in action"
   ]
  },
  {
   "cell_type": "code",
   "execution_count": 18,
   "id": "8055faf1",
   "metadata": {},
   "outputs": [
    {
     "name": "stdout",
     "output_type": "stream",
     "text": [
      "================================\u001b[1m Human Message \u001b[0m=================================\n",
      "\n",
      "what is Machine Learning?\n",
      "==================================\u001b[1m Ai Message \u001b[0m==================================\n",
      "Tool Calls:\n",
      "  wikipedia (wtbjgbebj)\n",
      " Call ID: wtbjgbebj\n",
      "  Args:\n",
      "    query: Machine Learning\n",
      "=================================\u001b[1m Tool Message \u001b[0m=================================\n",
      "Name: wikipedia\n",
      "\n",
      "Page: Machine learning\n",
      "Summary: Machine learning (ML) is a field of study in artificial intelligence concerned with the development and study of statistical algorithms that can learn from data and generalise to unseen data, and thus perform tasks without explicit instructions. Within a subdiscipline in machine learning, advances in the field of deep learning have allowed neural networks, a class of statistical algorithms, to surpass many previous machine learning approaches in performance.\n",
      "ML fi\n"
     ]
    }
   ],
   "source": [
    "messages = graph.invoke({\"messages\":\"what is Machine Learning?\"})\n",
    "\n",
    "for message in messages[\"messages\"]:\n",
    "    message.pretty_print()"
   ]
  },
  {
   "cell_type": "markdown",
   "id": "6b5b5a9e",
   "metadata": {},
   "source": [
    "Tavily in Action"
   ]
  },
  {
   "cell_type": "code",
   "execution_count": 20,
   "id": "232c547e",
   "metadata": {},
   "outputs": [
    {
     "name": "stdout",
     "output_type": "stream",
     "text": [
      "================================\u001b[1m Human Message \u001b[0m=================================\n",
      "\n",
      "search latest telugu movies released in august month?\n",
      "==================================\u001b[1m Ai Message \u001b[0m==================================\n",
      "Tool Calls:\n",
      "  tavily_search (kd2n1d2m8)\n",
      " Call ID: kd2n1d2m8\n",
      "  Args:\n",
      "    query: latest telugu movies released in august month\n",
      "    time_range: month\n",
      "=================================\u001b[1m Tool Message \u001b[0m=================================\n",
      "Name: tavily_search\n",
      "\n",
      "{\"query\": \"latest telugu movies released in august month\", \"follow_up_questions\": null, \"answer\": null, \"images\": [], \"results\": [{\"url\": \"https://www.gadgets360.com/entertainment/new-telugu-movies\", \"title\": \"New Telugu Movies | List of Latest Telugu Movies Releases 2025\", \"content\": \"Paradha · Anupama Parameswaran Darshana Rajendran, Sangeetha, Rag Mayur · Release Date. 22 August 2025 · Drama · Director Praveen Kandregula · Users Rating. (2.5/5)\", \"score\": 0.8568246, \"raw_content\": null}, {\"url\": \"https://www.siasat.com/list-of-20-hindi-telugu-films-releasing-in-august-september-2025-3255115/\", \"title\": \"List of 20 Hindi, Telugu films releasing in August, September 2025\", \"content\": \"List of 20 Hindi, Telugu films releasing in August, September 2025 · The box office collections for the first six months of 2025 touched a whopping Rs. 5,723\", \"score\": 0.7420672, \"raw_content\": null}, {\"url\": \"https://www.ainvest.com/news/essential-title-august-ott-releases-malayalam-tamil-telugu-movies-netflix-jiohotstar-prime-video-2508/\", \"title\": \"Essential Title: \\\"August OTT Releases: Malayalam, Tamil, Telugu ...\", \"content\": \"The upcoming South Indian OTT releases, including \\\"Soothravakyam,\\\" \\\"Dominic and the Ladies' Purse,\\\" and \\\"Maareesan,\\\" are expected to drive financial success for\", \"score\": 0.7366474, \"raw_content\": null}, {\"url\": \"https://www.gqindia.com/content/friday-ott-releases-august-8-2025-7-new-movies-and-shows-on-netflix-jiohotstar-zee5-and-more\", \"title\": \"Friday OTT releases (August 8, 2025): 7 new movies and shows on ...\", \"content\": \"1. Arabia Kadali - Amazon Prime Video · 2. Oho Enthan Baby - Netflix · 3. Mothevari Love Story - ZEE5 · 4. Pretty Thing - Lionsgate Play · 5. Salakaar - JioHotstar.\", \"score\": 0.7001783, \"raw_content\": null}, {\"url\": \"https://www.whats-on-netflix.com/whats-new/new-indian-movies-series-on-netflix-august-2025/\", \"title\": \"New Indian Movies & Series on Netflix: August 2025\", \"content\": \"New Indian Movies on Netflix: August 2025. Thammudu (2025). Languages: Telugu, Kannada, Malayalam, & Tamil Runtime: 151 Minutes Director: Venu Sriram Cast\", \"score\": 0.6205532, \"raw_content\": null}], \"response_time\": 1.1, \"request_id\": \"2a8fba49-8779-45d9-a67f-2d4152fcbe05\"}\n"
     ]
    }
   ],
   "source": [
    "messages = graph.invoke({\"messages\":\"search latest telugu movies released in august month?\"})\n",
    "\n",
    "for message in messages[\"messages\"]:\n",
    "    message.pretty_print()"
   ]
  },
  {
   "cell_type": "code",
   "execution_count": null,
   "id": "20481768",
   "metadata": {},
   "outputs": [],
   "source": []
  }
 ],
 "metadata": {
  "kernelspec": {
   "display_name": "Python 3",
   "language": "python",
   "name": "python3"
  },
  "language_info": {
   "codemirror_mode": {
    "name": "ipython",
    "version": 3
   },
   "file_extension": ".py",
   "mimetype": "text/x-python",
   "name": "python",
   "nbconvert_exporter": "python",
   "pygments_lexer": "ipython3",
   "version": "3.12.0"
  }
 },
 "nbformat": 4,
 "nbformat_minor": 5
}
